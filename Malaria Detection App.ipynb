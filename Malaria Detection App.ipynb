{
 "cells": [
  {
   "cell_type": "code",
   "execution_count": 3,
   "id": "88ef707c",
   "metadata": {},
   "outputs": [],
   "source": [
    "import import_ipynb\n",
    "import cnn"
   ]
  },
  {
   "cell_type": "code",
   "execution_count": 27,
   "id": "6e2ff545",
   "metadata": {},
   "outputs": [
    {
     "name": "stdout",
     "output_type": "stream",
     "text": [
      "Overwriting application.py\n"
     ]
    }
   ],
   "source": [
    "%%writefile application.py\n",
    "import streamlit as st\n",
    "from streamlit_jupyter import StreamlitPatcher, tqdm\n",
    "StreamlitPatcher().jupyter()  # register streamlit with jupyter-compatible wrappers\n",
    "from PIL import Image\n",
    "import numpy as np\n",
    "import tensorflow as tf\n",
    "from tensorflow import keras\n",
    "\n",
    "# Load the trained model\n",
    "model = keras.models.load_model('malaria.h5')\n",
    "\n",
    "# Define the labels\n",
    "labels = ['Parasitized', 'Uninfected']\n",
    "\n",
    "# Function to predict the class of the input image\n",
    "def predict(image):\n",
    "    # Load the image\n",
    "    img = Image.open(image).resize((150,150))\n",
    "    img_array = np.array(img)\n",
    "    img_array = img_array.astype('float32') / 255.0\n",
    "    \n",
    "    # Reshape the image to match the input of the model\n",
    "    img_array = np.expand_dims(img_array, axis=0)\n",
    "    \n",
    "    # Predict the class\n",
    "    predictions = model.predict(img_array)\n",
    "    class_index = np.argmax(predictions)\n",
    "    return labels[class_index]\n",
    "\n",
    "# Define the Streamlit app\n",
    "def app():\n",
    "    st.set_page_config(page_title='Malaria Detection', page_icon=':microscope:', layout='wide')\n",
    "    st.title('Malaria Detection using Image Processing')\n",
    "    st.write('Upload an image to detect if it is infected with Malaria or not.')\n",
    "    \n",
    "    # Create a file uploader\n",
    "    #uploaded_file = st.file_uploader('Choose an image file', type=['jpg', 'jpeg', 'png'])\n",
    "    ##Create a form where the image needs to be uploaded :\n",
    "    uploaded_files = st.file_uploader(\"Choose an image file\", accept_multiple_files=True)\n",
    "    for uploaded_file in uploaded_files:\n",
    "        bytes_data = uploaded_file.read()\n",
    "        st.write(\"filename:\", uploaded_file.name)\n",
    "        st.write(bytes_data)\n",
    "    \n",
    "if st.button('predict me')    \n",
    "  def load(uploaded_files):\n",
    "    img = cv2.imread(uploaded_files)\n",
    "    plt.imshow(img)\n",
    "    img = image.load_img(filename, target_size=(SIZE, SIZE))\n",
    "    img = image.img_to_array(img)\n",
    "    img = np.expand_dims(img, axis=0)\n",
    "    index = model.predict(img)\n",
    "    index = index.argmax().item()\n",
    "    if index == 0:\n",
    "        st.write(\"Parasitic\") \n",
    "    elif index == 1:\n",
    "        st.write(\"Parasitic\")\n",
    "    else:\n",
    "        return None\n",
    "    image = load(test_image)\n",
    "    st.write('The given blood cell is', image)\n",
    "\n",
    "if __name__ == '__main__':\n",
    "    app()"
   ]
  },
  {
   "cell_type": "code",
   "execution_count": 13,
   "id": "994de4ac",
   "metadata": {},
   "outputs": [
    {
     "data": {
      "text/markdown": [
       "# Malaria Detection using Image Processing"
      ],
      "text/plain": [
       "<IPython.core.display.Markdown object>"
      ]
     },
     "metadata": {},
     "output_type": "display_data"
    },
    {
     "data": {
      "text/markdown": [
       "Upload an image to detect if it is infected with Malaria or not."
      ],
      "text/plain": [
       "<IPython.core.display.Markdown object>"
      ]
     },
     "metadata": {},
     "output_type": "display_data"
    }
   ],
   "source": [
    "app()"
   ]
  },
  {
   "cell_type": "code",
   "execution_count": null,
   "id": "ab71a4c9",
   "metadata": {},
   "outputs": [],
   "source": []
  },
  {
   "cell_type": "code",
   "execution_count": null,
   "id": "23a2e804",
   "metadata": {},
   "outputs": [],
   "source": [
    "!python -m  streamlit run application.py"
   ]
  },
  {
   "cell_type": "code",
   "execution_count": null,
   "id": "10ea6058",
   "metadata": {},
   "outputs": [],
   "source": []
  },
  {
   "cell_type": "code",
   "execution_count": null,
   "id": "97dff81b",
   "metadata": {},
   "outputs": [],
   "source": []
  }
 ],
 "metadata": {
  "kernelspec": {
   "display_name": "Python 3 (ipykernel)",
   "language": "python",
   "name": "python3"
  },
  "language_info": {
   "codemirror_mode": {
    "name": "ipython",
    "version": 3
   },
   "file_extension": ".py",
   "mimetype": "text/x-python",
   "name": "python",
   "nbconvert_exporter": "python",
   "pygments_lexer": "ipython3",
   "version": "3.9.7"
  }
 },
 "nbformat": 4,
 "nbformat_minor": 5
}
